{
 "cells": [
  {
   "cell_type": "markdown",
   "metadata": {},
   "source": [
    "# 參考資源\n",
    "\n",
    "- [利用Keras建構LSTM模型，以Stock Prediction 為例 1 ->> 下面的code，大部份是從這個medium post抄來的](https://medium.com/@daniel820710/%E5%88%A9%E7%94%A8keras%E5%BB%BA%E6%A7%8Blstm%E6%A8%A1%E5%9E%8B-%E4%BB%A5stock-prediction-%E7%82%BA%E4%BE%8B-1-67456e0a0b)\n",
    "\n",
    "- [Time-Series Forecasting: Predicting Stock Prices Using An LSTM Model](https://towardsdatascience.com/lstm-time-series-forecasting-predicting-stock-prices-using-an-lstm-model-6223e9644a2f)\n",
    "\n",
    "- [How to Use the **TimeDistributed** Layer in Keras](https://machinelearningmastery.com/timedistributed-layer-for-long-short-term-memory-networks-in-python/)\n",
    "\n",
    "- [Keras 中 LSTM 层两个重要参数理解](https://huhuhang.com/post/machine-learning/lstm-return-sequences-state)\n",
    "\n",
    "- [How to use **return_state** or **return_sequences** in Keras](https://www.dlology.com/blog/how-to-use-return_state-or-return_sequences-in-keras/)"
   ]
  },
  {
   "cell_type": "markdown",
   "metadata": {},
   "source": [
    "# LSTM知識點\n",
    "\n",
    "- 建構要求的訓練資料結構\n",
    "- `return_sequence`的應用\n",
    "- `TimeDistributed`的應用\n",
    "- LSTM追縱過去的趨勢，不一定能用在外在環境改變下的新趨勢\n",
    "- auto-correlation的問題，還有傳統時間序列模型的優勢"
   ]
  },
  {
   "cell_type": "markdown",
   "metadata": {},
   "source": [
    "# 匯入所需的套件"
   ]
  },
  {
   "cell_type": "code",
   "execution_count": 1,
   "metadata": {},
   "outputs": [],
   "source": [
    "import numpy as np\n",
    "import pandas as pd\n",
    "import matplotlib.pyplot as plt\n",
    "import tensorflow as tf"
   ]
  },
  {
   "cell_type": "code",
   "execution_count": 2,
   "metadata": {},
   "outputs": [],
   "source": [
    "from tensorflow.keras import Sequential\n",
    "from tensorflow.keras.layers import (Dense, Dropout, Activation, \n",
    "                                     Flatten, LSTM, TimeDistributed, RepeatVector)\n",
    "from tensorflow.keras.layers import BatchNormalization\n",
    "from tensorflow.keras.optimizers import Adam\n",
    "from tensorflow.keras.callbacks import EarlyStopping, ModelCheckpoint\n",
    "from sklearn.metrics import mean_squared_error\n",
    "\n",
    "%matplotlib inline"
   ]
  },
  {
   "cell_type": "markdown",
   "metadata": {},
   "source": [
    "# 讀取資料"
   ]
  },
  {
   "cell_type": "code",
   "execution_count": 3,
   "metadata": {},
   "outputs": [],
   "source": [
    "def readTrain(filePath):\n",
    "    train = pd.read_csv(filePath)\n",
    "    return train\n",
    "\n",
    "filePath = \"./VTI_train_2000_2018.csv\"\n",
    "train = readTrain(filePath)"
   ]
  },
  {
   "cell_type": "code",
   "execution_count": 4,
   "metadata": {},
   "outputs": [
    {
     "data": {
      "text/html": [
       "<div>\n",
       "<style scoped>\n",
       "    .dataframe tbody tr th:only-of-type {\n",
       "        vertical-align: middle;\n",
       "    }\n",
       "\n",
       "    .dataframe tbody tr th {\n",
       "        vertical-align: top;\n",
       "    }\n",
       "\n",
       "    .dataframe thead th {\n",
       "        text-align: right;\n",
       "    }\n",
       "</style>\n",
       "<table border=\"1\" class=\"dataframe\">\n",
       "  <thead>\n",
       "    <tr style=\"text-align: right;\">\n",
       "      <th></th>\n",
       "      <th>Date</th>\n",
       "      <th>Open</th>\n",
       "      <th>High</th>\n",
       "      <th>Low</th>\n",
       "      <th>Close</th>\n",
       "      <th>Adj Close</th>\n",
       "      <th>Volume</th>\n",
       "    </tr>\n",
       "  </thead>\n",
       "  <tbody>\n",
       "    <tr>\n",
       "      <th>0</th>\n",
       "      <td>2001-06-15</td>\n",
       "      <td>55.424999</td>\n",
       "      <td>56.005001</td>\n",
       "      <td>55.174999</td>\n",
       "      <td>55.665001</td>\n",
       "      <td>38.975655</td>\n",
       "      <td>1067400</td>\n",
       "    </tr>\n",
       "    <tr>\n",
       "      <th>1</th>\n",
       "      <td>2001-06-18</td>\n",
       "      <td>55.814999</td>\n",
       "      <td>55.915001</td>\n",
       "      <td>55.310001</td>\n",
       "      <td>55.310001</td>\n",
       "      <td>38.727097</td>\n",
       "      <td>282600</td>\n",
       "    </tr>\n",
       "    <tr>\n",
       "      <th>2</th>\n",
       "      <td>2001-06-19</td>\n",
       "      <td>56.150002</td>\n",
       "      <td>56.165001</td>\n",
       "      <td>55.235001</td>\n",
       "      <td>55.465000</td>\n",
       "      <td>38.835609</td>\n",
       "      <td>1777600</td>\n",
       "    </tr>\n",
       "    <tr>\n",
       "      <th>3</th>\n",
       "      <td>2001-06-20</td>\n",
       "      <td>55.375000</td>\n",
       "      <td>56.075001</td>\n",
       "      <td>55.375000</td>\n",
       "      <td>56.049999</td>\n",
       "      <td>39.245239</td>\n",
       "      <td>476000</td>\n",
       "    </tr>\n",
       "    <tr>\n",
       "      <th>4</th>\n",
       "      <td>2001-06-21</td>\n",
       "      <td>56.000000</td>\n",
       "      <td>56.724998</td>\n",
       "      <td>55.875000</td>\n",
       "      <td>56.500000</td>\n",
       "      <td>39.560299</td>\n",
       "      <td>240400</td>\n",
       "    </tr>\n",
       "  </tbody>\n",
       "</table>\n",
       "</div>"
      ],
      "text/plain": [
       "         Date       Open       High        Low      Close  Adj Close   Volume\n",
       "0  2001-06-15  55.424999  56.005001  55.174999  55.665001  38.975655  1067400\n",
       "1  2001-06-18  55.814999  55.915001  55.310001  55.310001  38.727097   282600\n",
       "2  2001-06-19  56.150002  56.165001  55.235001  55.465000  38.835609  1777600\n",
       "3  2001-06-20  55.375000  56.075001  55.375000  56.049999  39.245239   476000\n",
       "4  2001-06-21  56.000000  56.724998  55.875000  56.500000  39.560299   240400"
      ]
     },
     "execution_count": 4,
     "metadata": {},
     "output_type": "execute_result"
    }
   ],
   "source": [
    "train.head()"
   ]
  },
  {
   "cell_type": "markdown",
   "metadata": {},
   "source": [
    "# Augment Features"
   ]
  },
  {
   "cell_type": "code",
   "execution_count": 5,
   "metadata": {},
   "outputs": [],
   "source": [
    "def augFeatures(train):\n",
    "    train[\"Date\"] = pd.to_datetime(train[\"Date\"])\n",
    "    train[\"year\"] = train[\"Date\"].dt.year\n",
    "    train[\"month\"] = train[\"Date\"].dt.month\n",
    "    train[\"date\"] = train[\"Date\"].dt.day\n",
    "    train[\"day\"] = train[\"Date\"].dt.dayofweek\n",
    "    train = train.drop([\"Date\"], axis=1)\n",
    "    return train\n",
    "\n",
    "train = augFeatures(train)"
   ]
  },
  {
   "cell_type": "code",
   "execution_count": 6,
   "metadata": {},
   "outputs": [
    {
     "data": {
      "text/html": [
       "<div>\n",
       "<style scoped>\n",
       "    .dataframe tbody tr th:only-of-type {\n",
       "        vertical-align: middle;\n",
       "    }\n",
       "\n",
       "    .dataframe tbody tr th {\n",
       "        vertical-align: top;\n",
       "    }\n",
       "\n",
       "    .dataframe thead th {\n",
       "        text-align: right;\n",
       "    }\n",
       "</style>\n",
       "<table border=\"1\" class=\"dataframe\">\n",
       "  <thead>\n",
       "    <tr style=\"text-align: right;\">\n",
       "      <th></th>\n",
       "      <th>Open</th>\n",
       "      <th>High</th>\n",
       "      <th>Low</th>\n",
       "      <th>Close</th>\n",
       "      <th>Adj Close</th>\n",
       "      <th>Volume</th>\n",
       "      <th>year</th>\n",
       "      <th>month</th>\n",
       "      <th>date</th>\n",
       "      <th>day</th>\n",
       "    </tr>\n",
       "  </thead>\n",
       "  <tbody>\n",
       "    <tr>\n",
       "      <th>0</th>\n",
       "      <td>55.424999</td>\n",
       "      <td>56.005001</td>\n",
       "      <td>55.174999</td>\n",
       "      <td>55.665001</td>\n",
       "      <td>38.975655</td>\n",
       "      <td>1067400</td>\n",
       "      <td>2001</td>\n",
       "      <td>6</td>\n",
       "      <td>15</td>\n",
       "      <td>4</td>\n",
       "    </tr>\n",
       "    <tr>\n",
       "      <th>1</th>\n",
       "      <td>55.814999</td>\n",
       "      <td>55.915001</td>\n",
       "      <td>55.310001</td>\n",
       "      <td>55.310001</td>\n",
       "      <td>38.727097</td>\n",
       "      <td>282600</td>\n",
       "      <td>2001</td>\n",
       "      <td>6</td>\n",
       "      <td>18</td>\n",
       "      <td>0</td>\n",
       "    </tr>\n",
       "    <tr>\n",
       "      <th>2</th>\n",
       "      <td>56.150002</td>\n",
       "      <td>56.165001</td>\n",
       "      <td>55.235001</td>\n",
       "      <td>55.465000</td>\n",
       "      <td>38.835609</td>\n",
       "      <td>1777600</td>\n",
       "      <td>2001</td>\n",
       "      <td>6</td>\n",
       "      <td>19</td>\n",
       "      <td>1</td>\n",
       "    </tr>\n",
       "    <tr>\n",
       "      <th>3</th>\n",
       "      <td>55.375000</td>\n",
       "      <td>56.075001</td>\n",
       "      <td>55.375000</td>\n",
       "      <td>56.049999</td>\n",
       "      <td>39.245239</td>\n",
       "      <td>476000</td>\n",
       "      <td>2001</td>\n",
       "      <td>6</td>\n",
       "      <td>20</td>\n",
       "      <td>2</td>\n",
       "    </tr>\n",
       "    <tr>\n",
       "      <th>4</th>\n",
       "      <td>56.000000</td>\n",
       "      <td>56.724998</td>\n",
       "      <td>55.875000</td>\n",
       "      <td>56.500000</td>\n",
       "      <td>39.560299</td>\n",
       "      <td>240400</td>\n",
       "      <td>2001</td>\n",
       "      <td>6</td>\n",
       "      <td>21</td>\n",
       "      <td>3</td>\n",
       "    </tr>\n",
       "  </tbody>\n",
       "</table>\n",
       "</div>"
      ],
      "text/plain": [
       "        Open       High        Low      Close  Adj Close   Volume  year  \\\n",
       "0  55.424999  56.005001  55.174999  55.665001  38.975655  1067400  2001   \n",
       "1  55.814999  55.915001  55.310001  55.310001  38.727097   282600  2001   \n",
       "2  56.150002  56.165001  55.235001  55.465000  38.835609  1777600  2001   \n",
       "3  55.375000  56.075001  55.375000  56.049999  39.245239   476000  2001   \n",
       "4  56.000000  56.724998  55.875000  56.500000  39.560299   240400  2001   \n",
       "\n",
       "   month  date  day  \n",
       "0      6    15    4  \n",
       "1      6    18    0  \n",
       "2      6    19    1  \n",
       "3      6    20    2  \n",
       "4      6    21    3  "
      ]
     },
     "execution_count": 6,
     "metadata": {},
     "output_type": "execute_result"
    }
   ],
   "source": [
    "train.head()"
   ]
  },
  {
   "cell_type": "code",
   "execution_count": 7,
   "metadata": {},
   "outputs": [],
   "source": [
    "# rename cols\n",
    "train.columns = [\n",
    "    \"open\", \"high\", \"low\", \"close\", \"adj_close\", \"vol\", \"year\", \"month\",\n",
    "    \"date\", \"day\"\n",
    "]"
   ]
  },
  {
   "cell_type": "code",
   "execution_count": 8,
   "metadata": {},
   "outputs": [],
   "source": [
    "# reindex, 將target value移到最後一個欄位\n",
    "train = train.reindex(columns=[\n",
    "    \"open\", \"high\", \"low\", \"close\", \"vol\", \"year\", \"month\",\n",
    "    \"date\", \"day\", \"adj_close\"\n",
    "])"
   ]
  },
  {
   "cell_type": "code",
   "execution_count": 9,
   "metadata": {},
   "outputs": [
    {
     "data": {
      "text/html": [
       "<div>\n",
       "<style scoped>\n",
       "    .dataframe tbody tr th:only-of-type {\n",
       "        vertical-align: middle;\n",
       "    }\n",
       "\n",
       "    .dataframe tbody tr th {\n",
       "        vertical-align: top;\n",
       "    }\n",
       "\n",
       "    .dataframe thead th {\n",
       "        text-align: right;\n",
       "    }\n",
       "</style>\n",
       "<table border=\"1\" class=\"dataframe\">\n",
       "  <thead>\n",
       "    <tr style=\"text-align: right;\">\n",
       "      <th></th>\n",
       "      <th>open</th>\n",
       "      <th>high</th>\n",
       "      <th>low</th>\n",
       "      <th>close</th>\n",
       "      <th>vol</th>\n",
       "      <th>year</th>\n",
       "      <th>month</th>\n",
       "      <th>date</th>\n",
       "      <th>day</th>\n",
       "      <th>adj_close</th>\n",
       "    </tr>\n",
       "  </thead>\n",
       "  <tbody>\n",
       "    <tr>\n",
       "      <th>0</th>\n",
       "      <td>55.424999</td>\n",
       "      <td>56.005001</td>\n",
       "      <td>55.174999</td>\n",
       "      <td>55.665001</td>\n",
       "      <td>1067400</td>\n",
       "      <td>2001</td>\n",
       "      <td>6</td>\n",
       "      <td>15</td>\n",
       "      <td>4</td>\n",
       "      <td>38.975655</td>\n",
       "    </tr>\n",
       "    <tr>\n",
       "      <th>1</th>\n",
       "      <td>55.814999</td>\n",
       "      <td>55.915001</td>\n",
       "      <td>55.310001</td>\n",
       "      <td>55.310001</td>\n",
       "      <td>282600</td>\n",
       "      <td>2001</td>\n",
       "      <td>6</td>\n",
       "      <td>18</td>\n",
       "      <td>0</td>\n",
       "      <td>38.727097</td>\n",
       "    </tr>\n",
       "    <tr>\n",
       "      <th>2</th>\n",
       "      <td>56.150002</td>\n",
       "      <td>56.165001</td>\n",
       "      <td>55.235001</td>\n",
       "      <td>55.465000</td>\n",
       "      <td>1777600</td>\n",
       "      <td>2001</td>\n",
       "      <td>6</td>\n",
       "      <td>19</td>\n",
       "      <td>1</td>\n",
       "      <td>38.835609</td>\n",
       "    </tr>\n",
       "    <tr>\n",
       "      <th>3</th>\n",
       "      <td>55.375000</td>\n",
       "      <td>56.075001</td>\n",
       "      <td>55.375000</td>\n",
       "      <td>56.049999</td>\n",
       "      <td>476000</td>\n",
       "      <td>2001</td>\n",
       "      <td>6</td>\n",
       "      <td>20</td>\n",
       "      <td>2</td>\n",
       "      <td>39.245239</td>\n",
       "    </tr>\n",
       "    <tr>\n",
       "      <th>4</th>\n",
       "      <td>56.000000</td>\n",
       "      <td>56.724998</td>\n",
       "      <td>55.875000</td>\n",
       "      <td>56.500000</td>\n",
       "      <td>240400</td>\n",
       "      <td>2001</td>\n",
       "      <td>6</td>\n",
       "      <td>21</td>\n",
       "      <td>3</td>\n",
       "      <td>39.560299</td>\n",
       "    </tr>\n",
       "  </tbody>\n",
       "</table>\n",
       "</div>"
      ],
      "text/plain": [
       "        open       high        low      close      vol  year  month  date  \\\n",
       "0  55.424999  56.005001  55.174999  55.665001  1067400  2001      6    15   \n",
       "1  55.814999  55.915001  55.310001  55.310001   282600  2001      6    18   \n",
       "2  56.150002  56.165001  55.235001  55.465000  1777600  2001      6    19   \n",
       "3  55.375000  56.075001  55.375000  56.049999   476000  2001      6    20   \n",
       "4  56.000000  56.724998  55.875000  56.500000   240400  2001      6    21   \n",
       "\n",
       "   day  adj_close  \n",
       "0    4  38.975655  \n",
       "1    0  38.727097  \n",
       "2    1  38.835609  \n",
       "3    2  39.245239  \n",
       "4    3  39.560299  "
      ]
     },
     "execution_count": 9,
     "metadata": {},
     "output_type": "execute_result"
    }
   ],
   "source": [
    "train.head()"
   ]
  },
  {
   "cell_type": "markdown",
   "metadata": {},
   "source": [
    "# Normalization"
   ]
  },
  {
   "cell_type": "code",
   "execution_count": 10,
   "metadata": {},
   "outputs": [],
   "source": [
    "from sklearn.preprocessing import MinMaxScaler \n",
    "\n",
    "def normalize(train):\n",
    "    scaler = MinMaxScaler()\n",
    "    train_norm = scaler.fit_transform(train)\n",
    "    return train_norm, scaler\n",
    "\n",
    "train_norm, scaler = normalize(train)"
   ]
  },
  {
   "cell_type": "markdown",
   "metadata": {},
   "source": [
    "# Build Train Data"
   ]
  },
  {
   "cell_type": "code",
   "execution_count": 11,
   "metadata": {},
   "outputs": [],
   "source": [
    "def buildTrain(train, pastDay=30, futureDay=5):\n",
    "    x, y = [], []\n",
    "    for i in range(0, (train.shape[0] - futureDay - pastDay), futureDay):\n",
    "        x.append(np.array(train[i:i + pastDay]))\n",
    "        y.append(np.array(train[(i + pastDay):(i + pastDay + futureDay), -1]))\n",
    "    return np.array(x), np.array(y)\n",
    "\n",
    "x, y = buildTrain(train_norm)"
   ]
  },
  {
   "cell_type": "markdown",
   "metadata": {},
   "source": [
    "# 資料亂序"
   ]
  },
  {
   "cell_type": "code",
   "execution_count": 12,
   "metadata": {},
   "outputs": [],
   "source": [
    "from sklearn.utils import shuffle\n",
    "\n",
    "def dataShuffle(x, y):\n",
    "    x, y = shuffle(x,y, random_state=2)\n",
    "    return x, y\n",
    "\n",
    "x, y = dataShuffle(x, y)"
   ]
  },
  {
   "cell_type": "markdown",
   "metadata": {},
   "source": [
    "# Train/Valid/Test Split"
   ]
  },
  {
   "cell_type": "code",
   "execution_count": 13,
   "metadata": {},
   "outputs": [],
   "source": [
    "def splitData(x, y, splitInterval=(0.5, 0.7)):\n",
    "    size = x.shape[0]\n",
    "    A, B = splitInterval\n",
    "    x_train, y_train = x[:int(size * A), ...], y[:int(size * A), :]\n",
    "    x_val, y_val = x[int(size * A):int(size * B), ...], \\\n",
    "                   y[int(size * A):int(size * B), :]\n",
    "    x_test, y_test = x[int(size * B):, ...], y[int(size * B):, :]\n",
    "    return x_train, x_val, x_test, y_train, y_val, y_test"
   ]
  },
  {
   "cell_type": "code",
   "execution_count": 14,
   "metadata": {},
   "outputs": [],
   "source": [
    "x_train, x_val, x_test, y_train, y_val, y_test = splitData(x, y)"
   ]
  },
  {
   "cell_type": "markdown",
   "metadata": {},
   "source": [
    "# 查看各個資料集Size是否正確"
   ]
  },
  {
   "cell_type": "code",
   "execution_count": 15,
   "metadata": {},
   "outputs": [
    {
     "name": "stdout",
     "output_type": "stream",
     "text": [
      "x_train shape:  (438, 30, 10)\n",
      "y_train shape:  (438, 5)\n",
      "x_val shape:  (175, 30, 10)\n",
      "y_val shape:  (175, 5)\n",
      "x_test shape:  (263, 30, 10)\n",
      "y_test shape:  (263, 5)\n"
     ]
    }
   ],
   "source": [
    "print(\"x_train shape: \", x_train.shape)\n",
    "print(\"y_train shape: \", y_train.shape)\n",
    "print(\"x_val shape: \", x_val.shape)\n",
    "print(\"y_val shape: \", y_val.shape)\n",
    "print(\"x_test shape: \", x_test.shape)\n",
    "print(\"y_test shape: \", y_test.shape)"
   ]
  },
  {
   "cell_type": "markdown",
   "metadata": {},
   "source": [
    "# Build Many to Many Model"
   ]
  },
  {
   "cell_type": "code",
   "execution_count": 16,
   "metadata": {},
   "outputs": [
    {
     "name": "stdout",
     "output_type": "stream",
     "text": [
      "Model: \"sequential\"\n",
      "_________________________________________________________________\n",
      "Layer (type)                 Output Shape              Param #   \n",
      "=================================================================\n",
      "lstm (LSTM)                  (None, 30, 128)           71168     \n",
      "_________________________________________________________________\n",
      "dropout (Dropout)            (None, 30, 128)           0         \n",
      "_________________________________________________________________\n",
      "lstm_1 (LSTM)                (None, 64)                49408     \n",
      "_________________________________________________________________\n",
      "dense (Dense)                (None, 5)                 325       \n",
      "=================================================================\n",
      "Total params: 120,901\n",
      "Trainable params: 120,901\n",
      "Non-trainable params: 0\n",
      "_________________________________________________________________\n"
     ]
    }
   ],
   "source": [
    "def buildMtoM(x_train, target_num=5, lr=0.001, decay=1e-6):\n",
    "    model = Sequential()\n",
    "    model.add(\n",
    "        LSTM(units=128,\n",
    "             input_shape=(x_train.shape[1], x_train.shape[2]),\n",
    "             activation=\"relu\",\n",
    "             return_sequences=True))\n",
    "    model.add(Dropout(rate=0.3))\n",
    "    model.add(LSTM(units=64,activation=\"relu\", return_sequences=False))\n",
    "    model.add(Dense(units=target_num))\n",
    "    opt = Adam(lr=lr, decay=decay)\n",
    "    model.compile(loss=\"mse\", optimizer=opt)\n",
    "    model.summary()\n",
    "    return model\n",
    "\n",
    "model = buildMtoM(x_train)"
   ]
  },
  {
   "cell_type": "markdown",
   "metadata": {},
   "source": [
    "# 定義Callbacks"
   ]
  },
  {
   "cell_type": "code",
   "execution_count": 17,
   "metadata": {},
   "outputs": [],
   "source": [
    "early_stop = EarlyStopping(monitor=\"val_loss\",\n",
    "                           patience=5,\n",
    "                           verbose=1,\n",
    "                           restore_best_weights=True)\n",
    "\n",
    "checkpoint_dir = \"./checkpoint/\"\n",
    "model_ckpt = ModelCheckpoint(filepath=checkpoint_dir + \"{epoch}-{loss:.6f}-modelckpt.h5\",\n",
    "                             monitor=\"val_loss\",\n",
    "                             save_best_only=True,\n",
    "                             verbose=1,\n",
    "                             save_freq=\"epoch\")"
   ]
  },
  {
   "cell_type": "markdown",
   "metadata": {},
   "source": [
    "# 開始訓練模型"
   ]
  },
  {
   "cell_type": "code",
   "execution_count": 18,
   "metadata": {},
   "outputs": [
    {
     "name": "stdout",
     "output_type": "stream",
     "text": [
      "Train on 438 samples, validate on 175 samples\n",
      "Epoch 1/50\n",
      "416/438 [===========================>..] - ETA: 0s - loss: 0.0706\n",
      "Epoch 00001: val_loss improved from inf to 0.00965, saving model to ./checkpoint/1-0.067350-modelckpt.h5\n",
      "438/438 [==============================] - 4s 9ms/sample - loss: 0.0674 - val_loss: 0.0097\n",
      "Epoch 2/50\n",
      "384/438 [=========================>....] - ETA: 0s - loss: 0.0080\n",
      "Epoch 00002: val_loss improved from 0.00965 to 0.00230, saving model to ./checkpoint/2-0.007273-modelckpt.h5\n",
      "438/438 [==============================] - 1s 2ms/sample - loss: 0.0073 - val_loss: 0.0023\n",
      "Epoch 3/50\n",
      "416/438 [===========================>..] - ETA: 0s - loss: 0.0023\n",
      "Epoch 00003: val_loss improved from 0.00230 to 0.00162, saving model to ./checkpoint/3-0.002199-modelckpt.h5\n",
      "438/438 [==============================] - 1s 2ms/sample - loss: 0.0022 - val_loss: 0.0016\n",
      "Epoch 4/50\n",
      "384/438 [=========================>....] - ETA: 0s - loss: 0.0014\n",
      "Epoch 00004: val_loss improved from 0.00162 to 0.00099, saving model to ./checkpoint/4-0.001364-modelckpt.h5\n",
      "438/438 [==============================] - 1s 2ms/sample - loss: 0.0014 - val_loss: 9.9139e-04\n",
      "Epoch 5/50\n",
      "416/438 [===========================>..] - ETA: 0s - loss: 0.0011\n",
      "Epoch 00005: val_loss improved from 0.00099 to 0.00063, saving model to ./checkpoint/5-0.001101-modelckpt.h5\n",
      "438/438 [==============================] - 1s 2ms/sample - loss: 0.0011 - val_loss: 6.3263e-04\n",
      "Epoch 6/50\n",
      "416/438 [===========================>..] - ETA: 0s - loss: 0.0012  \n",
      "Epoch 00006: val_loss improved from 0.00063 to 0.00053, saving model to ./checkpoint/6-0.001209-modelckpt.h5\n",
      "438/438 [==============================] - 1s 2ms/sample - loss: 0.0012 - val_loss: 5.2650e-04\n",
      "Epoch 7/50\n",
      "416/438 [===========================>..] - ETA: 0s - loss: 9.8139e-04\n",
      "Epoch 00007: val_loss did not improve from 0.00053\n",
      "438/438 [==============================] - 1s 2ms/sample - loss: 0.0010 - val_loss: 6.9790e-04\n",
      "Epoch 8/50\n",
      "384/438 [=========================>....] - ETA: 0s - loss: 8.2129e-04\n",
      "Epoch 00008: val_loss did not improve from 0.00053\n",
      "438/438 [==============================] - 1s 2ms/sample - loss: 8.0910e-04 - val_loss: 8.0143e-04\n",
      "Epoch 9/50\n",
      "384/438 [=========================>....] - ETA: 0s - loss: 8.0130e-04\n",
      "Epoch 00009: val_loss improved from 0.00053 to 0.00043, saving model to ./checkpoint/9-0.000861-modelckpt.h5\n",
      "438/438 [==============================] - 1s 2ms/sample - loss: 8.6141e-04 - val_loss: 4.2656e-04\n",
      "Epoch 10/50\n",
      "384/438 [=========================>....] - ETA: 0s - loss: 7.1677e-04\n",
      "Epoch 00010: val_loss did not improve from 0.00043\n",
      "438/438 [==============================] - 1s 2ms/sample - loss: 7.2861e-04 - val_loss: 4.2903e-04\n",
      "Epoch 11/50\n",
      "416/438 [===========================>..] - ETA: 0s - loss: 6.3215e-04\n",
      "Epoch 00011: val_loss did not improve from 0.00043\n",
      "438/438 [==============================] - 1s 2ms/sample - loss: 6.3182e-04 - val_loss: 4.8533e-04\n",
      "Epoch 12/50\n",
      "416/438 [===========================>..] - ETA: 0s - loss: 7.4516e-04\n",
      "Epoch 00012: val_loss did not improve from 0.00043\n",
      "438/438 [==============================] - 1s 2ms/sample - loss: 7.5657e-04 - val_loss: 5.9481e-04\n",
      "Epoch 13/50\n",
      "416/438 [===========================>..] - ETA: 0s - loss: 7.0919e-04\n",
      "Epoch 00013: val_loss improved from 0.00043 to 0.00036, saving model to ./checkpoint/13-0.000714-modelckpt.h5\n",
      "438/438 [==============================] - 1s 2ms/sample - loss: 7.1424e-04 - val_loss: 3.5536e-04\n",
      "Epoch 14/50\n",
      "384/438 [=========================>....] - ETA: 0s - loss: 7.3474e-04\n",
      "Epoch 00014: val_loss did not improve from 0.00036\n",
      "438/438 [==============================] - 1s 2ms/sample - loss: 7.0576e-04 - val_loss: 0.0010\n",
      "Epoch 15/50\n",
      "416/438 [===========================>..] - ETA: 0s - loss: 9.4731e-04\n",
      "Epoch 00015: val_loss did not improve from 0.00036\n",
      "438/438 [==============================] - 1s 1ms/sample - loss: 9.2616e-04 - val_loss: 4.7173e-04\n",
      "Epoch 16/50\n",
      "384/438 [=========================>....] - ETA: 0s - loss: 5.5162e-04\n",
      "Epoch 00016: val_loss did not improve from 0.00036\n",
      "438/438 [==============================] - 1s 2ms/sample - loss: 5.4448e-04 - val_loss: 4.0774e-04\n",
      "Epoch 17/50\n",
      "416/438 [===========================>..] - ETA: 0s - loss: 5.8567e-04\n",
      "Epoch 00017: val_loss did not improve from 0.00036\n",
      "438/438 [==============================] - 1s 2ms/sample - loss: 5.9242e-04 - val_loss: 4.8433e-04\n",
      "Epoch 18/50\n",
      "416/438 [===========================>..] - ETA: 0s - loss: 7.1676e-04Restoring model weights from the end of the best epoch.\n",
      "\n",
      "Epoch 00018: val_loss did not improve from 0.00036\n",
      "438/438 [==============================] - 1s 2ms/sample - loss: 7.2240e-04 - val_loss: 3.7372e-04\n",
      "Epoch 00018: early stopping\n"
     ]
    }
   ],
   "source": [
    "EPOCHS = 50\n",
    "BATCH_SIZE = 32\n",
    "\n",
    "H = model.fit(x_train,\n",
    "              y_train,\n",
    "              epochs=EPOCHS,\n",
    "              batch_size=BATCH_SIZE,\n",
    "              validation_data=(x_val, y_val),\n",
    "              callbacks=[early_stop, model_ckpt])"
   ]
  },
  {
   "cell_type": "markdown",
   "metadata": {},
   "source": [
    "# 訓練紀錄"
   ]
  },
  {
   "cell_type": "code",
   "execution_count": 19,
   "metadata": {},
   "outputs": [
    {
     "data": {
      "image/png": "[encoded data removed]",
      "text/plain": [
       "<Figure size 432x288 with 1 Axes>"
      ]
     },
     "metadata": {},
     "output_type": "display_data"
    }
   ],
   "source": [
    "plt.style.use(\"ggplot\")\n",
    "plt.figure()\n",
    "N = len(H.history[\"loss\"])\n",
    "plt.plot(np.arange(0,N), H.history[\"loss\"], label=\"train_loss\")\n",
    "plt.plot(np.arange(0,N), H.history[\"val_loss\"], label=\"val_loss\")\n",
    "plt.xlabel(\"epoch #\")\n",
    "plt.ylabel(\"loss\")\n",
    "plt.title(\"Training and Val Loss\")\n",
    "plt.legend(loc=\"best\")\n",
    "plt.show()"
   ]
  },
  {
   "cell_type": "markdown",
   "metadata": {},
   "source": [
    "# 在測試集的表現"
   ]
  },
  {
   "cell_type": "code",
   "execution_count": 20,
   "metadata": {},
   "outputs": [],
   "source": [
    "y_preds = model.predict(x_test)"
   ]
  },
  {
   "cell_type": "code",
   "execution_count": 21,
   "metadata": {},
   "outputs": [
    {
     "data": {
      "text/plain": [
       "(263, 5)"
      ]
     },
     "execution_count": 21,
     "metadata": {},
     "output_type": "execute_result"
    }
   ],
   "source": [
    "y_preds.shape"
   ]
  },
  {
   "cell_type": "code",
   "execution_count": 22,
   "metadata": {},
   "outputs": [
    {
     "data": {
      "text/plain": [
       "(263, 5)"
      ]
     },
     "execution_count": 22,
     "metadata": {},
     "output_type": "execute_result"
    }
   ],
   "source": [
    "y_test.shape"
   ]
  },
  {
   "cell_type": "code",
   "execution_count": 23,
   "metadata": {},
   "outputs": [
    {
     "data": {
      "text/plain": [
       "0.00032439157072752193"
      ]
     },
     "execution_count": 23,
     "metadata": {},
     "output_type": "execute_result"
    }
   ],
   "source": [
    "test_loss = mean_squared_error(y_test, y_preds)\n",
    "test_loss"
   ]
  },
  {
   "cell_type": "markdown",
   "metadata": {},
   "source": [
    "# 在原資料上的預測"
   ]
  },
  {
   "cell_type": "code",
   "execution_count": 26,
   "metadata": {},
   "outputs": [],
   "source": [
    "def predict_plot(model, buildTrain, df):\n",
    "    x, y = buildTrain(df)\n",
    "    y_ = model.predict(x)\n",
    "    \n",
    "    y = y.reshape(-1,)\n",
    "    y_ = y_.reshape(-1,)\n",
    "    \n",
    "    plt.figure()\n",
    "    plt.plot(np.arange(0, len(y)), y, label=\"real_y\")\n",
    "    plt.plot(np.arange(0, len(y_)), y_, label=\"pred_y\")\n",
    "    plt.title(\"Real vs Predicted Y (re-scaled)\")\n",
    "    plt.legend(loc=\"best\")\n",
    "    plt.show()"
   ]
  },
  {
   "cell_type": "code",
   "execution_count": 27,
   "metadata": {},
   "outputs": [
    {
     "data": {
      "image/png": "[encoded data removed]",
      "text/plain": [
       "<Figure size 432x288 with 1 Axes>"
      ]
     },
     "metadata": {},
     "output_type": "display_data"
    }
   ],
   "source": [
    "predict_plot(model, buildTrain, train_norm)"
   ]
  },
  {
   "cell_type": "markdown",
   "metadata": {},
   "source": [
    "# 在新資料上的預測"
   ]
  },
  {
   "cell_type": "code",
   "execution_count": 28,
   "metadata": {},
   "outputs": [],
   "source": [
    "filePath = \"./VTI_test_2019_2020.csv\"\n",
    "test = readTrain(filePath)"
   ]
  },
  {
   "cell_type": "code",
   "execution_count": 29,
   "metadata": {},
   "outputs": [],
   "source": [
    "test = augFeatures(test)"
   ]
  },
  {
   "cell_type": "code",
   "execution_count": 30,
   "metadata": {},
   "outputs": [
    {
     "data": {
      "text/html": [
       "<div>\n",
       "<style scoped>\n",
       "    .dataframe tbody tr th:only-of-type {\n",
       "        vertical-align: middle;\n",
       "    }\n",
       "\n",
       "    .dataframe tbody tr th {\n",
       "        vertical-align: top;\n",
       "    }\n",
       "\n",
       "    .dataframe thead th {\n",
       "        text-align: right;\n",
       "    }\n",
       "</style>\n",
       "<table border=\"1\" class=\"dataframe\">\n",
       "  <thead>\n",
       "    <tr style=\"text-align: right;\">\n",
       "      <th></th>\n",
       "      <th>Open</th>\n",
       "      <th>High</th>\n",
       "      <th>Low</th>\n",
       "      <th>Close</th>\n",
       "      <th>Adj Close</th>\n",
       "      <th>Volume</th>\n",
       "      <th>year</th>\n",
       "      <th>month</th>\n",
       "      <th>date</th>\n",
       "      <th>day</th>\n",
       "    </tr>\n",
       "  </thead>\n",
       "  <tbody>\n",
       "    <tr>\n",
       "      <th>0</th>\n",
       "      <td>125.750000</td>\n",
       "      <td>128.160004</td>\n",
       "      <td>125.339996</td>\n",
       "      <td>127.730003</td>\n",
       "      <td>124.131165</td>\n",
       "      <td>5093200</td>\n",
       "      <td>2019</td>\n",
       "      <td>1</td>\n",
       "      <td>2</td>\n",
       "      <td>2</td>\n",
       "    </tr>\n",
       "    <tr>\n",
       "      <th>1</th>\n",
       "      <td>126.910004</td>\n",
       "      <td>126.910004</td>\n",
       "      <td>124.570000</td>\n",
       "      <td>124.769997</td>\n",
       "      <td>121.254555</td>\n",
       "      <td>5252900</td>\n",
       "      <td>2019</td>\n",
       "      <td>1</td>\n",
       "      <td>3</td>\n",
       "      <td>3</td>\n",
       "    </tr>\n",
       "    <tr>\n",
       "      <th>2</th>\n",
       "      <td>126.480003</td>\n",
       "      <td>129.369995</td>\n",
       "      <td>126.320000</td>\n",
       "      <td>128.899994</td>\n",
       "      <td>125.268188</td>\n",
       "      <td>4776900</td>\n",
       "      <td>2019</td>\n",
       "      <td>1</td>\n",
       "      <td>4</td>\n",
       "      <td>4</td>\n",
       "    </tr>\n",
       "    <tr>\n",
       "      <th>3</th>\n",
       "      <td>129.190002</td>\n",
       "      <td>131.039993</td>\n",
       "      <td>128.809998</td>\n",
       "      <td>130.199997</td>\n",
       "      <td>126.531570</td>\n",
       "      <td>4485100</td>\n",
       "      <td>2019</td>\n",
       "      <td>1</td>\n",
       "      <td>7</td>\n",
       "      <td>0</td>\n",
       "    </tr>\n",
       "    <tr>\n",
       "      <th>4</th>\n",
       "      <td>131.449997</td>\n",
       "      <td>131.729996</td>\n",
       "      <td>130.050003</td>\n",
       "      <td>131.539993</td>\n",
       "      <td>127.833801</td>\n",
       "      <td>3949400</td>\n",
       "      <td>2019</td>\n",
       "      <td>1</td>\n",
       "      <td>8</td>\n",
       "      <td>1</td>\n",
       "    </tr>\n",
       "  </tbody>\n",
       "</table>\n",
       "</div>"
      ],
      "text/plain": [
       "         Open        High         Low       Close   Adj Close   Volume  year  \\\n",
       "0  125.750000  128.160004  125.339996  127.730003  124.131165  5093200  2019   \n",
       "1  126.910004  126.910004  124.570000  124.769997  121.254555  5252900  2019   \n",
       "2  126.480003  129.369995  126.320000  128.899994  125.268188  4776900  2019   \n",
       "3  129.190002  131.039993  128.809998  130.199997  126.531570  4485100  2019   \n",
       "4  131.449997  131.729996  130.050003  131.539993  127.833801  3949400  2019   \n",
       "\n",
       "   month  date  day  \n",
       "0      1     2    2  \n",
       "1      1     3    3  \n",
       "2      1     4    4  \n",
       "3      1     7    0  \n",
       "4      1     8    1  "
      ]
     },
     "execution_count": 30,
     "metadata": {},
     "output_type": "execute_result"
    }
   ],
   "source": [
    "test.head()"
   ]
  },
  {
   "cell_type": "code",
   "execution_count": 31,
   "metadata": {},
   "outputs": [],
   "source": [
    "# rename cols\n",
    "test.columns = [\n",
    "    \"open\", \"high\", \"low\", \"close\", \"adj_close\", \"vol\", \"year\", \"month\",\n",
    "    \"date\", \"day\"\n",
    "]"
   ]
  },
  {
   "cell_type": "code",
   "execution_count": 32,
   "metadata": {},
   "outputs": [],
   "source": [
    "# reindex, 將target value移到最後一個欄位\n",
    "test = test.reindex(columns=[\n",
    "    \"open\", \"high\", \"low\", \"close\", \"vol\", \"year\", \"month\",\n",
    "    \"date\", \"day\", \"adj_close\"\n",
    "])"
   ]
  },
  {
   "cell_type": "code",
   "execution_count": 33,
   "metadata": {},
   "outputs": [
    {
     "data": {
      "text/html": [
       "<div>\n",
       "<style scoped>\n",
       "    .dataframe tbody tr th:only-of-type {\n",
       "        vertical-align: middle;\n",
       "    }\n",
       "\n",
       "    .dataframe tbody tr th {\n",
       "        vertical-align: top;\n",
       "    }\n",
       "\n",
       "    .dataframe thead th {\n",
       "        text-align: right;\n",
       "    }\n",
       "</style>\n",
       "<table border=\"1\" class=\"dataframe\">\n",
       "  <thead>\n",
       "    <tr style=\"text-align: right;\">\n",
       "      <th></th>\n",
       "      <th>open</th>\n",
       "      <th>high</th>\n",
       "      <th>low</th>\n",
       "      <th>close</th>\n",
       "      <th>vol</th>\n",
       "      <th>year</th>\n",
       "      <th>month</th>\n",
       "      <th>date</th>\n",
       "      <th>day</th>\n",
       "      <th>adj_close</th>\n",
       "    </tr>\n",
       "  </thead>\n",
       "  <tbody>\n",
       "    <tr>\n",
       "      <th>0</th>\n",
       "      <td>125.750000</td>\n",
       "      <td>128.160004</td>\n",
       "      <td>125.339996</td>\n",
       "      <td>127.730003</td>\n",
       "      <td>5093200</td>\n",
       "      <td>2019</td>\n",
       "      <td>1</td>\n",
       "      <td>2</td>\n",
       "      <td>2</td>\n",
       "      <td>124.131165</td>\n",
       "    </tr>\n",
       "    <tr>\n",
       "      <th>1</th>\n",
       "      <td>126.910004</td>\n",
       "      <td>126.910004</td>\n",
       "      <td>124.570000</td>\n",
       "      <td>124.769997</td>\n",
       "      <td>5252900</td>\n",
       "      <td>2019</td>\n",
       "      <td>1</td>\n",
       "      <td>3</td>\n",
       "      <td>3</td>\n",
       "      <td>121.254555</td>\n",
       "    </tr>\n",
       "    <tr>\n",
       "      <th>2</th>\n",
       "      <td>126.480003</td>\n",
       "      <td>129.369995</td>\n",
       "      <td>126.320000</td>\n",
       "      <td>128.899994</td>\n",
       "      <td>4776900</td>\n",
       "      <td>2019</td>\n",
       "      <td>1</td>\n",
       "      <td>4</td>\n",
       "      <td>4</td>\n",
       "      <td>125.268188</td>\n",
       "    </tr>\n",
       "    <tr>\n",
       "      <th>3</th>\n",
       "      <td>129.190002</td>\n",
       "      <td>131.039993</td>\n",
       "      <td>128.809998</td>\n",
       "      <td>130.199997</td>\n",
       "      <td>4485100</td>\n",
       "      <td>2019</td>\n",
       "      <td>1</td>\n",
       "      <td>7</td>\n",
       "      <td>0</td>\n",
       "      <td>126.531570</td>\n",
       "    </tr>\n",
       "    <tr>\n",
       "      <th>4</th>\n",
       "      <td>131.449997</td>\n",
       "      <td>131.729996</td>\n",
       "      <td>130.050003</td>\n",
       "      <td>131.539993</td>\n",
       "      <td>3949400</td>\n",
       "      <td>2019</td>\n",
       "      <td>1</td>\n",
       "      <td>8</td>\n",
       "      <td>1</td>\n",
       "      <td>127.833801</td>\n",
       "    </tr>\n",
       "  </tbody>\n",
       "</table>\n",
       "</div>"
      ],
      "text/plain": [
       "         open        high         low       close      vol  year  month  date  \\\n",
       "0  125.750000  128.160004  125.339996  127.730003  5093200  2019      1     2   \n",
       "1  126.910004  126.910004  124.570000  124.769997  5252900  2019      1     3   \n",
       "2  126.480003  129.369995  126.320000  128.899994  4776900  2019      1     4   \n",
       "3  129.190002  131.039993  128.809998  130.199997  4485100  2019      1     7   \n",
       "4  131.449997  131.729996  130.050003  131.539993  3949400  2019      1     8   \n",
       "\n",
       "   day   adj_close  \n",
       "0    2  124.131165  \n",
       "1    3  121.254555  \n",
       "2    4  125.268188  \n",
       "3    0  126.531570  \n",
       "4    1  127.833801  "
      ]
     },
     "execution_count": 33,
     "metadata": {},
     "output_type": "execute_result"
    }
   ],
   "source": [
    "test.head()"
   ]
  },
  {
   "cell_type": "code",
   "execution_count": 34,
   "metadata": {},
   "outputs": [],
   "source": [
    "test_norm = scaler.transform(test)"
   ]
  },
  {
   "cell_type": "code",
   "execution_count": 35,
   "metadata": {},
   "outputs": [
    {
     "data": {
      "text/plain": [
       "array([[0.77934824, 0.79784879, 0.78802864, 0.79950688, 0.12011933,\n",
       "        1.05882353, 0.        , 0.03333333, 0.5       , 0.82125065],\n",
       "       [0.7891663 , 0.7871778 , 0.78168025, 0.7743389 , 0.12389433,\n",
       "        1.05882353, 0.        , 0.06666667, 0.75      , 0.79718095],\n",
       "       [0.78552686, 0.80817823, 0.79610848, 0.80945494, 0.1126426 ,\n",
       "        1.05882353, 0.        , 0.1       , 1.        , 0.83076457],\n",
       "       [0.80846379, 0.82243466, 0.81663777, 0.82050845, 0.105745  ,\n",
       "        1.05882353, 0.        , 0.2       , 0.        , 0.84133577],\n",
       "       [0.82759197, 0.82832507, 0.82686125, 0.831902  , 0.09308208,\n",
       "        1.05882353, 0.        , 0.23333333, 0.25      , 0.85223204]])"
      ]
     },
     "execution_count": 35,
     "metadata": {},
     "output_type": "execute_result"
    }
   ],
   "source": [
    "test_norm[:5]"
   ]
  },
  {
   "cell_type": "code",
   "execution_count": 36,
   "metadata": {},
   "outputs": [
    {
     "data": {
      "image/png": "[encoded data removed]",
      "text/plain": [
       "<Figure size 432x288 with 1 Axes>"
      ]
     },
     "metadata": {},
     "output_type": "display_data"
    }
   ],
   "source": [
    "predict_plot(model, buildTrain, test_norm)"
   ]
  },
  {
   "cell_type": "markdown",
   "metadata": {},
   "source": [
    "# 結論"
   ]
  },
  {
   "cell_type": "markdown",
   "metadata": {},
   "source": [
    "可以看到，LSTM模型基本上變成是跟隨著前一期的資料走(可以假想一個狀況，就是模型拿上一期的資料，當作這一期的預測點)，這是因為針對時間序列，每個時間點的資料，都會auto-correlated，所以針對時間序列的資料，其實使用傳統的time series模型，可能會比較洽當。"
   ]
  },
  {
   "cell_type": "code",
   "execution_count": null,
   "metadata": {},
   "outputs": [],
   "source": []
  }
 ],
 "metadata": {
  "kernelspec": {
   "display_name": "house-price",
   "language": "python",
   "name": "house-price"
  },
  "language_info": {
   "codemirror_mode": {
    "name": "ipython",
    "version": 3
   },
   "file_extension": ".py",
   "mimetype": "text/x-python",
   "name": "python",
   "nbconvert_exporter": "python",
   "pygments_lexer": "ipython3",
   "version": "3.7.4"
  }
 },
 "nbformat": 4,
 "nbformat_minor": 2
}
